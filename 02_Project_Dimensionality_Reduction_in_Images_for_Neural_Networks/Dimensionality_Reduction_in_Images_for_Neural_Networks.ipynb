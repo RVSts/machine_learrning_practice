{
 "cells": [
  {
   "cell_type": "code",
   "execution_count": 1,
   "id": "8a71b29a-9880-48ef-a0f1-3eba73bc090f",
   "metadata": {},
   "outputs": [],
   "source": [
    "# importing libraries\n",
    "import cv2\n",
    "import numpy as np\n",
    "\n",
    "import matplotlib.pyplot as plt"
   ]
  },
  {
   "cell_type": "code",
   "execution_count": 2,
   "id": "1482e76e-d5f6-46e6-943b-b076d349659c",
   "metadata": {},
   "outputs": [],
   "source": [
    "# Function to convert an RGB image to grayscale\n",
    "def rgb_to_grayscale(image_rgb):\n",
    "    height = len(image_rgb)  # Get the height of the image\n",
    "    width = len(image_rgb[0])  # Get the width of the image\n",
    "\n",
    "    # Create an empty grayscale image with the same height and width\n",
    "    gray_image = np.zeros((height, width), dtype=np.uint8)\n",
    "\n",
    "    # Loop through each pixel to calculate the grayscale value\n",
    "    for i in range(height):\n",
    "        for j in range(width):\n",
    "            b, g, r = image_rgb[i][j]  # Extract RGB values\n",
    "            gray = int(0.299 * r + 0.587 * g + 0.114 * b)  # Grayscale conversion formula\n",
    "            gray_image[i][j] = gray  # Assign the grayscale value to the pixel\n",
    "\n",
    "    return gray_image  # Return the grayscale image"
   ]
  },
  {
   "cell_type": "code",
   "execution_count": 3,
   "id": "a5c560ea-327b-4134-8acf-e1d145c0767b",
   "metadata": {},
   "outputs": [],
   "source": [
    "# Function to convert a grayscale image to a binary image\n",
    "def grayscale_to_binary(gray_image):\n",
    "    height = len(gray_image)  # Get the height of the grayscale image\n",
    "    width = len(gray_image[0])  # Get the width of the grayscale image\n",
    "\n",
    "    # Create an empty binary image with the same height and width\n",
    "    binary_image = np.zeros((height, width), dtype=np.uint8)\n",
    "\n",
    "    # Loop through each pixel to apply the binary threshold\n",
    "    for i in range(height):\n",
    "        for j in range(width):\n",
    "            # Set pixel to 255 (white) if grayscale value >= 128, else 0 (black)\n",
    "            binary_image[i][j] = 255 if gray_image[i][j] >= 128 else 0\n",
    "\n",
    "    return binary_image  # Return the binary image"
   ]
  },
  {
   "cell_type": "code",
   "execution_count": 5,
   "id": "1952bdb4-a5cd-4621-a80d-5111ebb03e6a",
   "metadata": {},
   "outputs": [],
   "source": [
    "# Load the image using OpenCV\n",
    "image = cv2.imread('foundation.jpg')\n",
    "\n",
    "# Convert the image from BGR to RGB format\n",
    "image_rgb = cv2.cvtColor(image, cv2.COLOR_BGR2RGB)\n",
    "\n",
    "# Convert the RGB image to a list of lists for processing\n",
    "image_list = image_rgb.tolist()"
   ]
  },
  {
   "cell_type": "code",
   "execution_count": null,
   "id": "f63adcdb-6023-4566-a87f-f8bdb26aeb8b",
   "metadata": {},
   "outputs": [],
   "source": []
  }
 ],
 "metadata": {
  "kernelspec": {
   "display_name": "Python 3 (ipykernel)",
   "language": "python",
   "name": "python3"
  },
  "language_info": {
   "codemirror_mode": {
    "name": "ipython",
    "version": 3
   },
   "file_extension": ".py",
   "mimetype": "text/x-python",
   "name": "python",
   "nbconvert_exporter": "python",
   "pygments_lexer": "ipython3",
   "version": "3.12.9"
  }
 },
 "nbformat": 4,
 "nbformat_minor": 5
}
